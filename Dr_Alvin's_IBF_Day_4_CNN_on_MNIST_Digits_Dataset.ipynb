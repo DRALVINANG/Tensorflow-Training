{
  "nbformat": 4,
  "nbformat_minor": 0,
  "metadata": {
    "colab": {
      "name": "Dr Alvin's IBF Day 4 CNN on MNIST Digits Dataset.ipynb",
      "provenance": [],
      "collapsed_sections": [
        "P91tdzLpSRCn",
        "ITS5_VEASfap"
      ],
      "toc_visible": true
    },
    "kernelspec": {
      "name": "python3",
      "display_name": "Python 3"
    },
    "language_info": {
      "name": "python"
    },
    "accelerator": "GPU",
    "gpuClass": "standard"
  },
  "cells": [
    {
      "cell_type": "markdown",
      "source": [
        "#Step 1: Load Data"
      ],
      "metadata": {
        "id": "Sdzb1AVp_VNY"
      }
    },
    {
      "cell_type": "code",
      "source": [
        "import numpy as np\n",
        "import pandas as pd\n",
        "%matplotlib inline\n",
        "import matplotlib as mpl\n",
        "import matplotlib.pyplot as plt"
      ],
      "metadata": {
        "id": "SK-y1GDfCA60"
      },
      "execution_count": 77,
      "outputs": []
    },
    {
      "cell_type": "markdown",
      "source": [
        "##1a) Import the Data + Train Test Split"
      ],
      "metadata": {
        "id": "RRnhSzMkRdWO"
      }
    },
    {
      "cell_type": "code",
      "execution_count": 78,
      "metadata": {
        "id": "w1OQcKcF8GSq"
      },
      "outputs": [],
      "source": [
        "import tensorflow as tf\n",
        "from tensorflow import keras\n",
        "\n",
        "mnist = keras.datasets.mnist\n",
        "(x_train, y_train), (x_test, y_test) = mnist.load_data()"
      ]
    },
    {
      "cell_type": "markdown",
      "source": [
        "##1b) Visualize the Data"
      ],
      "metadata": {
        "id": "h3LQE4ZGRlvz"
      }
    },
    {
      "cell_type": "code",
      "source": [
        "plt.imshow(x_train[1])"
      ],
      "metadata": {
        "colab": {
          "base_uri": "https://localhost:8080/",
          "height": 282
        },
        "id": "WxdcaHLJBfYb",
        "outputId": "6e06c00b-b2f9-453e-b2b9-d8a9bca1e213"
      },
      "execution_count": 79,
      "outputs": [
        {
          "output_type": "execute_result",
          "data": {
            "text/plain": [
              "<matplotlib.image.AxesImage at 0x7f382188ad50>"
            ]
          },
          "metadata": {},
          "execution_count": 79
        },
        {
          "output_type": "display_data",
          "data": {
            "text/plain": [
              "<Figure size 432x288 with 1 Axes>"
            ],
            "image/png": "[encoded data removed]"
          },
          "metadata": {
            "needs_background": "light"
          }
        }
      ]
    },
    {
      "cell_type": "code",
      "source": [
        "x_train[1]"
      ],
      "metadata": {
        "colab": {
          "base_uri": "https://localhost:8080/"
        },
        "id": "d5Xm2bpD0Po0",
        "outputId": "e8409141-2572-4e02-9557-fcd2856af3be"
      },
      "execution_count": 80,
      "outputs": [
        {
          "output_type": "execute_result",
          "data": {
            "text/plain": [
              "array([[  0,   0,   0,   0,   0,   0,   0,   0,   0,   0,   0,   0,   0,\n",
              "          0,   0,   0,   0,   0,   0,   0,   0,   0,   0,   0,   0,   0,\n",
              "          0,   0],\n",
              "       [  0,   0,   0,   0,   0,   0,   0,   0,   0,   0,   0,   0,   0,\n",
              "          0,   0,   0,   0,   0,   0,   0,   0,   0,   0,   0,   0,   0,\n",
              "          0,   0],\n",
              "       [  0,   0,   0,   0,   0,   0,   0,   0,   0,   0,   0,   0,   0,\n",
              "          0,   0,   0,   0,   0,   0,   0,   0,   0,   0,   0,   0,   0,\n",
              "          0,   0],\n",
              "       [  0,   0,   0,   0,   0,   0,   0,   0,   0,   0,   0,   0,   0,\n",
              "          0,   0,   0,   0,   0,   0,   0,   0,   0,   0,   0,   0,   0,\n",
              "          0,   0],\n",
              "       [  0,   0,   0,   0,   0,   0,   0,   0,   0,   0,   0,   0,   0,\n",
              "          0,   0,  51, 159, 253, 159,  50,   0,   0,   0,   0,   0,   0,\n",
              "          0,   0],\n",
              "       [  0,   0,   0,   0,   0,   0,   0,   0,   0,   0,   0,   0,   0,\n",
              "          0,  48, 238, 252, 252, 252, 237,   0,   0,   0,   0,   0,   0,\n",
              "          0,   0],\n",
              "       [  0,   0,   0,   0,   0,   0,   0,   0,   0,   0,   0,   0,   0,\n",
              "         54, 227, 253, 252, 239, 233, 252,  57,   6,   0,   0,   0,   0,\n",
              "          0,   0],\n",
              "       [  0,   0,   0,   0,   0,   0,   0,   0,   0,   0,   0,  10,  60,\n",
              "        224, 252, 253, 252, 202,  84, 252, 253, 122,   0,   0,   0,   0,\n",
              "          0,   0],\n",
              "       [  0,   0,   0,   0,   0,   0,   0,   0,   0,   0,   0, 163, 252,\n",
              "        252, 252, 253, 252, 252,  96, 189, 253, 167,   0,   0,   0,   0,\n",
              "          0,   0],\n",
              "       [  0,   0,   0,   0,   0,   0,   0,   0,   0,   0,  51, 238, 253,\n",
              "        253, 190, 114, 253, 228,  47,  79, 255, 168,   0,   0,   0,   0,\n",
              "          0,   0],\n",
              "       [  0,   0,   0,   0,   0,   0,   0,   0,   0,  48, 238, 252, 252,\n",
              "        179,  12,  75, 121,  21,   0,   0, 253, 243,  50,   0,   0,   0,\n",
              "          0,   0],\n",
              "       [  0,   0,   0,   0,   0,   0,   0,   0,  38, 165, 253, 233, 208,\n",
              "         84,   0,   0,   0,   0,   0,   0, 253, 252, 165,   0,   0,   0,\n",
              "          0,   0],\n",
              "       [  0,   0,   0,   0,   0,   0,   0,   7, 178, 252, 240,  71,  19,\n",
              "         28,   0,   0,   0,   0,   0,   0, 253, 252, 195,   0,   0,   0,\n",
              "          0,   0],\n",
              "       [  0,   0,   0,   0,   0,   0,   0,  57, 252, 252,  63,   0,   0,\n",
              "          0,   0,   0,   0,   0,   0,   0, 253, 252, 195,   0,   0,   0,\n",
              "          0,   0],\n",
              "       [  0,   0,   0,   0,   0,   0,   0, 198, 253, 190,   0,   0,   0,\n",
              "          0,   0,   0,   0,   0,   0,   0, 255, 253, 196,   0,   0,   0,\n",
              "          0,   0],\n",
              "       [  0,   0,   0,   0,   0,   0,  76, 246, 252, 112,   0,   0,   0,\n",
              "          0,   0,   0,   0,   0,   0,   0, 253, 252, 148,   0,   0,   0,\n",
              "          0,   0],\n",
              "       [  0,   0,   0,   0,   0,   0,  85, 252, 230,  25,   0,   0,   0,\n",
              "          0,   0,   0,   0,   0,   7, 135, 253, 186,  12,   0,   0,   0,\n",
              "          0,   0],\n",
              "       [  0,   0,   0,   0,   0,   0,  85, 252, 223,   0,   0,   0,   0,\n",
              "          0,   0,   0,   0,   7, 131, 252, 225,  71,   0,   0,   0,   0,\n",
              "          0,   0],\n",
              "       [  0,   0,   0,   0,   0,   0,  85, 252, 145,   0,   0,   0,   0,\n",
              "          0,   0,   0,  48, 165, 252, 173,   0,   0,   0,   0,   0,   0,\n",
              "          0,   0],\n",
              "       [  0,   0,   0,   0,   0,   0,  86, 253, 225,   0,   0,   0,   0,\n",
              "          0,   0, 114, 238, 253, 162,   0,   0,   0,   0,   0,   0,   0,\n",
              "          0,   0],\n",
              "       [  0,   0,   0,   0,   0,   0,  85, 252, 249, 146,  48,  29,  85,\n",
              "        178, 225, 253, 223, 167,  56,   0,   0,   0,   0,   0,   0,   0,\n",
              "          0,   0],\n",
              "       [  0,   0,   0,   0,   0,   0,  85, 252, 252, 252, 229, 215, 252,\n",
              "        252, 252, 196, 130,   0,   0,   0,   0,   0,   0,   0,   0,   0,\n",
              "          0,   0],\n",
              "       [  0,   0,   0,   0,   0,   0,  28, 199, 252, 252, 253, 252, 252,\n",
              "        233, 145,   0,   0,   0,   0,   0,   0,   0,   0,   0,   0,   0,\n",
              "          0,   0],\n",
              "       [  0,   0,   0,   0,   0,   0,   0,  25, 128, 252, 253, 252, 141,\n",
              "         37,   0,   0,   0,   0,   0,   0,   0,   0,   0,   0,   0,   0,\n",
              "          0,   0],\n",
              "       [  0,   0,   0,   0,   0,   0,   0,   0,   0,   0,   0,   0,   0,\n",
              "          0,   0,   0,   0,   0,   0,   0,   0,   0,   0,   0,   0,   0,\n",
              "          0,   0],\n",
              "       [  0,   0,   0,   0,   0,   0,   0,   0,   0,   0,   0,   0,   0,\n",
              "          0,   0,   0,   0,   0,   0,   0,   0,   0,   0,   0,   0,   0,\n",
              "          0,   0],\n",
              "       [  0,   0,   0,   0,   0,   0,   0,   0,   0,   0,   0,   0,   0,\n",
              "          0,   0,   0,   0,   0,   0,   0,   0,   0,   0,   0,   0,   0,\n",
              "          0,   0],\n",
              "       [  0,   0,   0,   0,   0,   0,   0,   0,   0,   0,   0,   0,   0,\n",
              "          0,   0,   0,   0,   0,   0,   0,   0,   0,   0,   0,   0,   0,\n",
              "          0,   0]], dtype=uint8)"
            ]
          },
          "metadata": {},
          "execution_count": 80
        }
      ]
    },
    {
      "cell_type": "code",
      "source": [
        "x_train[1].shape\n",
        "\n",
        "#we see that the handwritten digit 0 \n",
        "#in x_train[1] is represented by 28 rows x 28 columns of data\n",
        "#each represents 0 (black) to 255 (white)  "
      ],
      "metadata": {
        "colab": {
          "base_uri": "https://localhost:8080/"
        },
        "id": "zMMiSwL5cfRI",
        "outputId": "0d0a8b54-cdb1-4af7-f543-0f703d41e24e"
      },
      "execution_count": 81,
      "outputs": [
        {
          "output_type": "execute_result",
          "data": {
            "text/plain": [
              "(28, 28)"
            ]
          },
          "metadata": {},
          "execution_count": 81
        }
      ]
    },
    {
      "cell_type": "code",
      "source": [
        "y_train[1]"
      ],
      "metadata": {
        "colab": {
          "base_uri": "https://localhost:8080/"
        },
        "id": "kqsKPCN3BmNb",
        "outputId": "e2cd5548-2691-46b6-c5ac-fd5fce44dcf6"
      },
      "execution_count": 82,
      "outputs": [
        {
          "output_type": "execute_result",
          "data": {
            "text/plain": [
              "0"
            ]
          },
          "metadata": {},
          "execution_count": 82
        }
      ]
    },
    {
      "cell_type": "code",
      "source": [
        "display(y_train)"
      ],
      "metadata": {
        "colab": {
          "base_uri": "https://localhost:8080/",
          "height": 34
        },
        "id": "Ggb6WymPBsf_",
        "outputId": "d3278844-0128-4863-8e21-48e0575935f6"
      },
      "execution_count": 83,
      "outputs": [
        {
          "output_type": "display_data",
          "data": {
            "text/plain": [
              "array([5, 0, 4, ..., 5, 6, 8], dtype=uint8)"
            ]
          },
          "metadata": {}
        }
      ]
    },
    {
      "cell_type": "code",
      "source": [
        "print(len(np.unique(y_train)))\n",
        "#to see how many classes there are... 10 classes"
      ],
      "metadata": {
        "colab": {
          "base_uri": "https://localhost:8080/"
        },
        "id": "nl7VjsiUBvgi",
        "outputId": "2936bfbd-933c-4403-f97a-1830edfcc66f"
      },
      "execution_count": 84,
      "outputs": [
        {
          "output_type": "stream",
          "name": "stdout",
          "text": [
            "10\n"
          ]
        }
      ]
    },
    {
      "cell_type": "code",
      "source": [
        "for i in range(5):\n",
        "  print(f'Label: {y_train[i]}')\n",
        "  plt.imshow(x_train[i], cmap='gray')\n",
        "  plt.show()"
      ],
      "metadata": {
        "colab": {
          "base_uri": "https://localhost:8080/",
          "height": 1000
        },
        "id": "sCTMT4ogBxMD",
        "outputId": "19161ef9-8b12-4f0d-bc5d-17ed8165481a"
      },
      "execution_count": 85,
      "outputs": [
        {
          "output_type": "stream",
          "name": "stdout",
          "text": [
            "Label: 5\n"
          ]
        },
        {
          "output_type": "display_data",
          "data": {
            "text/plain": [
              "<Figure size 432x288 with 1 Axes>"
            ],
            "image/png": "[encoded data removed]"
          },
          "metadata": {
            "needs_background": "light"
          }
        },
        {
          "output_type": "stream",
          "name": "stdout",
          "text": [
            "Label: 0\n"
          ]
        },
        {
          "output_type": "display_data",
          "data": {
            "text/plain": [
              "<Figure size 432x288 with 1 Axes>"
            ],
            "image/png": "[encoded data removed]"
          },
          "metadata": {
            "needs_background": "light"
          }
        },
        {
          "output_type": "stream",
          "name": "stdout",
          "text": [
            "Label: 4\n"
          ]
        },
        {
          "output_type": "display_data",
          "data": {
            "text/plain": [
              "<Figure size 432x288 with 1 Axes>"
            ],
            "image/png": "[encoded data removed]"
          },
          "metadata": {
            "needs_background": "light"
          }
        },
        {
          "output_type": "stream",
          "name": "stdout",
          "text": [
            "Label: 1\n"
          ]
        },
        {
          "output_type": "display_data",
          "data": {
            "text/plain": [
              "<Figure size 432x288 with 1 Axes>"
            ],
            "image/png": "[encoded data removed]"
          },
          "metadata": {
            "needs_background": "light"
          }
        },
        {
          "output_type": "stream",
          "name": "stdout",
          "text": [
            "Label: 9\n"
          ]
        },
        {
          "output_type": "display_data",
          "data": {
            "text/plain": [
              "<Figure size 432x288 with 1 Axes>"
            ],
            "image/png": "[encoded data removed]"
          },
          "metadata": {
            "needs_background": "light"
          }
        }
      ]
    },
    {
      "cell_type": "markdown",
      "source": [
        "##1c) Normalize the Data"
      ],
      "metadata": {
        "id": "yzwe8BBcRxyj"
      }
    },
    {
      "cell_type": "code",
      "source": [
        "#normalize the dataset\n",
        "x_train, x_test = x_train/255, x_test/255\n",
        "#pictures are from grayscale 0 to 255, so we divide by 255 to \n",
        "#normalize from 0 to 1 probability\n",
        "\n",
        "#0 is pure black\n",
        "#255 (or 1) is pure white"
      ],
      "metadata": {
        "id": "SUObu7sTB0iF"
      },
      "execution_count": 86,
      "outputs": []
    },
    {
      "cell_type": "code",
      "source": [
        "print(f'Before: {x_train.shape}')\n",
        "\n",
        "#this means there are 60,000 images inside x_train\n",
        "#and they are 28x28 pixels"
      ],
      "metadata": {
        "colab": {
          "base_uri": "https://localhost:8080/"
        },
        "id": "_ZiLIYz3BbMw",
        "outputId": "4d193f51-05a9-4637-e985-aee2504769db"
      },
      "execution_count": 87,
      "outputs": [
        {
          "output_type": "stream",
          "name": "stdout",
          "text": [
            "Before: (60000, 28, 28)\n"
          ]
        }
      ]
    },
    {
      "cell_type": "markdown",
      "source": [
        "#1d) Reshape the Data, or rather, add in additional Parameter --> Channels (RGB)"
      ],
      "metadata": {
        "id": "KSZP4uJNR4yC"
      }
    },
    {
      "cell_type": "code",
      "source": [
        "#Add a channels dimension\n",
        "x_train = x_train[..., tf.newaxis]\n",
        "x_test = x_test[..., tf.newaxis]\n",
        "print(f'After: {x_train.shape}')\n",
        "\n",
        "#this means that we convert the x_train to include another parameter called Channel"
      ],
      "metadata": {
        "colab": {
          "base_uri": "https://localhost:8080/"
        },
        "id": "ByxgtZlhB3Xm",
        "outputId": "618c388f-08f3-4dfc-bc0b-561e025acc0c"
      },
      "execution_count": 88,
      "outputs": [
        {
          "output_type": "stream",
          "name": "stdout",
          "text": [
            "After: (60000, 28, 28, 1)\n"
          ]
        }
      ]
    },
    {
      "cell_type": "code",
      "source": [
        "#alternatively, to RESHAPE the data... you can try\n",
        "#x_train = x_train.reshape((60000, 28, 28, 3))\n",
        "#x_test = x_test.reshape((10000, 28, 28, 3))"
      ],
      "metadata": {
        "id": "bskxUi0uDfr2"
      },
      "execution_count": 89,
      "outputs": []
    },
    {
      "cell_type": "markdown",
      "source": [
        "\n",
        "\n",
        "---\n",
        "\n"
      ],
      "metadata": {
        "id": "D-evPQYcnDuJ"
      }
    },
    {
      "cell_type": "markdown",
      "source": [
        "#Step 2: Build the Model"
      ],
      "metadata": {
        "id": "bs5V9zzjFcVM"
      }
    },
    {
      "cell_type": "code",
      "source": [
        "from tensorflow.keras.models import Sequential\n",
        "from tensorflow.keras.layers import Conv2D, MaxPooling2D, Flatten, Dense\n",
        "\n",
        "model = Sequential([\n",
        "    Conv2D(filters = 16, \n",
        "           kernel_size = (3, 3), \n",
        "           activation = 'relu', \n",
        "           input_shape = (28,28,1)),\n",
        "    MaxPooling2D((2,2)),\n",
        "\n",
        "    Conv2D(32, (3, 3), activation = 'relu'),\n",
        "    MaxPooling2D((2, 2)),\n",
        "    \n",
        "    Flatten(),\n",
        "    Dense(64, activation = 'relu'),\n",
        "    Dense(10, activation = 'softmax')\n",
        "\n",
        "])\n",
        "\n"
      ],
      "metadata": {
        "id": "MQwDVMjRFgod"
      },
      "execution_count": 90,
      "outputs": []
    },
    {
      "cell_type": "markdown",
      "source": [
        "##2a) Summary of the Model"
      ],
      "metadata": {
        "id": "P91tdzLpSRCn"
      }
    },
    {
      "cell_type": "code",
      "source": [
        "model.summary()\n"
      ],
      "metadata": {
        "colab": {
          "base_uri": "https://localhost:8080/"
        },
        "id": "FOLL82JRqMUC",
        "outputId": "eab9fcba-47b2-47e8-b2b4-ea47e700380d"
      },
      "execution_count": 91,
      "outputs": [
        {
          "output_type": "stream",
          "name": "stdout",
          "text": [
            "Model: \"sequential_7\"\n",
            "_________________________________________________________________\n",
            " Layer (type)                Output Shape              Param #   \n",
            "=================================================================\n",
            " conv2d_14 (Conv2D)          (None, 26, 26, 16)        160       \n",
            "                                                                 \n",
            " max_pooling2d_14 (MaxPoolin  (None, 13, 13, 16)       0         \n",
            " g2D)                                                            \n",
            "                                                                 \n",
            " conv2d_15 (Conv2D)          (None, 11, 11, 32)        4640      \n",
            "                                                                 \n",
            " max_pooling2d_15 (MaxPoolin  (None, 5, 5, 32)         0         \n",
            " g2D)                                                            \n",
            "                                                                 \n",
            " flatten_7 (Flatten)         (None, 800)               0         \n",
            "                                                                 \n",
            " dense_14 (Dense)            (None, 64)                51264     \n",
            "                                                                 \n",
            " dense_15 (Dense)            (None, 10)                650       \n",
            "                                                                 \n",
            "=================================================================\n",
            "Total params: 56,714\n",
            "Trainable params: 56,714\n",
            "Non-trainable params: 0\n",
            "_________________________________________________________________\n"
          ]
        }
      ]
    },
    {
      "cell_type": "markdown",
      "source": [
        "##2b) Visualize the Model"
      ],
      "metadata": {
        "id": "ITS5_VEASfap"
      }
    },
    {
      "cell_type": "code",
      "source": [
        "import pydot\n",
        "keras.utils.plot_model(model, 'model.png', show_shapes=True)"
      ],
      "metadata": {
        "colab": {
          "base_uri": "https://localhost:8080/",
          "height": 0
        },
        "id": "ya8u-eIDSiqW",
        "outputId": "53ce2450-59f9-48f8-9e93-50cf30556842"
      },
      "execution_count": 92,
      "outputs": [
        {
          "output_type": "execute_result",
          "data": {
            "text/plain": [
              "<IPython.core.display.Image object>"
            ],
            "image/png": "[encoded data removed]"
          },
          "metadata": {},
          "execution_count": 92
        }
      ]
    },
    {
      "cell_type": "markdown",
      "source": [
        "\n",
        "\n",
        "---\n",
        "\n"
      ],
      "metadata": {
        "id": "1ZLkRqnznGBI"
      }
    },
    {
      "cell_type": "markdown",
      "source": [
        "#Step 3: Compile the Model"
      ],
      "metadata": {
        "id": "Ud_RetECBJkt"
      }
    },
    {
      "cell_type": "code",
      "source": [
        "model.compile(\n",
        "    optimizer='adam',\n",
        "    loss = 'sparse_categorical_crossentropy',\n",
        "    metrics = ['accuracy']\n",
        ")\n",
        "\n",
        "#sparse_categorical_crossentropy is slower to train\n",
        "#but easier to code\n",
        "#try converting to categorical_crossentropy for faster\n",
        "\n",
        "#sparse_categorical_crossentropy dun need \"One-Hot Encoding\" for \n",
        "#both inputs and outputs\n",
        "\n",
        "#adam is for cross entropy --> Classification\n",
        "#RMSprop is for Regression"
      ],
      "metadata": {
        "id": "F5LOLcjdDVQf"
      },
      "execution_count": 93,
      "outputs": []
    },
    {
      "cell_type": "markdown",
      "source": [
        "\n",
        "\n",
        "---\n",
        "\n"
      ],
      "metadata": {
        "id": "PuIwjHXtnHdR"
      }
    },
    {
      "cell_type": "markdown",
      "source": [
        "#Step 4: Train the Model"
      ],
      "metadata": {
        "id": "6yy76lk_S7GK"
      }
    },
    {
      "cell_type": "code",
      "source": [
        "history = model.fit(\n",
        "    x_train, y_train,\n",
        "    epochs = 10,\n",
        "    validation_data = (x_test, y_test)\n",
        ")"
      ],
      "metadata": {
        "colab": {
          "base_uri": "https://localhost:8080/"
        },
        "id": "h373uUAuBL37",
        "outputId": "9bbf420a-ed46-4962-ad3a-74b839547ba3"
      },
      "execution_count": 109,
      "outputs": [
        {
          "output_type": "stream",
          "name": "stdout",
          "text": [
            "Epoch 1/10\n",
            "1875/1875 [==============================] - 6s 3ms/step - loss: 0.0405 - accuracy: 0.9876 - val_loss: 0.0399 - val_accuracy: 0.9876\n",
            "Epoch 2/10\n",
            "1875/1875 [==============================] - 6s 3ms/step - loss: 0.0307 - accuracy: 0.9904 - val_loss: 0.0375 - val_accuracy: 0.9877\n",
            "Epoch 3/10\n",
            "1875/1875 [==============================] - 6s 3ms/step - loss: 0.0240 - accuracy: 0.9926 - val_loss: 0.0391 - val_accuracy: 0.9873\n",
            "Epoch 4/10\n",
            "1875/1875 [==============================] - 6s 3ms/step - loss: 0.0197 - accuracy: 0.9936 - val_loss: 0.0304 - val_accuracy: 0.9910\n",
            "Epoch 5/10\n",
            "1875/1875 [==============================] - 6s 3ms/step - loss: 0.0157 - accuracy: 0.9950 - val_loss: 0.0437 - val_accuracy: 0.9874\n",
            "Epoch 6/10\n",
            "1875/1875 [==============================] - 6s 3ms/step - loss: 0.0119 - accuracy: 0.9962 - val_loss: 0.0484 - val_accuracy: 0.9876\n",
            "Epoch 7/10\n",
            "1875/1875 [==============================] - 6s 3ms/step - loss: 0.0115 - accuracy: 0.9961 - val_loss: 0.0336 - val_accuracy: 0.9903\n",
            "Epoch 8/10\n",
            "1875/1875 [==============================] - 6s 3ms/step - loss: 0.0086 - accuracy: 0.9971 - val_loss: 0.0430 - val_accuracy: 0.9895\n",
            "Epoch 9/10\n",
            "1875/1875 [==============================] - 6s 3ms/step - loss: 0.0083 - accuracy: 0.9971 - val_loss: 0.0354 - val_accuracy: 0.9907\n",
            "Epoch 10/10\n",
            "1875/1875 [==============================] - 6s 3ms/step - loss: 0.0068 - accuracy: 0.9977 - val_loss: 0.0321 - val_accuracy: 0.9918\n"
          ]
        }
      ]
    },
    {
      "cell_type": "markdown",
      "source": [
        "\n",
        "\n",
        "---\n",
        "\n"
      ],
      "metadata": {
        "id": "RBZ62WcfnIrx"
      }
    },
    {
      "cell_type": "markdown",
      "source": [
        "#Step 5: Running a Handwritten Prediction"
      ],
      "metadata": {
        "id": "ZgSqBbtckoS3"
      }
    },
    {
      "cell_type": "markdown",
      "source": [
        "![8.jpg](data:image/jpeg;base64,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)"
      ],
      "metadata": {
        "id": "Baa0260aktXn"
      }
    },
    {
      "cell_type": "markdown",
      "source": [
        "##5a) Importing Image Reshaping Libraries"
      ],
      "metadata": {
        "id": "3OSbGFfYkx4P"
      }
    },
    {
      "cell_type": "code",
      "source": [
        "import numpy as np\n",
        "import cv2\n",
        "from skimage import img_as_ubyte    \n",
        "from skimage.color import rgb2gray\n",
        "from keras.models import load_model"
      ],
      "metadata": {
        "id": "Tdnz5_Vjo1um"
      },
      "execution_count": 110,
      "outputs": []
    },
    {
      "cell_type": "markdown",
      "source": [
        "##5b) Importing and Previewing the Handwritten Image"
      ],
      "metadata": {
        "id": "dWUGbXrNk41e"
      }
    },
    {
      "cell_type": "code",
      "source": [
        "eight = cv2.imread('/content/8.jpeg')"
      ],
      "metadata": {
        "id": "GYSvmhY2jVon"
      },
      "execution_count": 111,
      "outputs": []
    },
    {
      "cell_type": "code",
      "source": [
        "plt.imshow(eight)"
      ],
      "metadata": {
        "colab": {
          "base_uri": "https://localhost:8080/",
          "height": 286
        },
        "id": "Tko0lanBjaPP",
        "outputId": "f8fb255f-6b09-4a76-a060-b6d7df855f7d"
      },
      "execution_count": 112,
      "outputs": [
        {
          "output_type": "execute_result",
          "data": {
            "text/plain": [
              "<matplotlib.image.AxesImage at 0x7f38b8983850>"
            ]
          },
          "metadata": {},
          "execution_count": 112
        },
        {
          "output_type": "display_data",
          "data": {
            "text/plain": [
              "<Figure size 432x288 with 1 Axes>"
            ],
            "image/png": "[encoded data removed]"
          },
          "metadata": {
            "needs_background": "light"
          }
        }
      ]
    },
    {
      "cell_type": "markdown",
      "source": [
        "##5c) Re-Coloring / Re-Shaping / Re-Sizing"
      ],
      "metadata": {
        "id": "QPR2XHHflANf"
      }
    },
    {
      "cell_type": "code",
      "source": [
        "eight_gray = rgb2gray(eight)\n",
        "eight_gray_u8 = img_as_ubyte(eight_gray)"
      ],
      "metadata": {
        "id": "ZFtn8iP5hFbI"
      },
      "execution_count": 113,
      "outputs": []
    },
    {
      "cell_type": "code",
      "source": [
        "(thresh, im_binary) = cv2.threshold(eight_gray_u8, 128, 255, cv2.THRESH_BINARY | cv2.THRESH_OTSU)"
      ],
      "metadata": {
        "id": "ENABeK2ujuA3"
      },
      "execution_count": 114,
      "outputs": []
    },
    {
      "cell_type": "code",
      "source": [
        "img_resized = cv2.resize(im_binary,(28,28))"
      ],
      "metadata": {
        "id": "O5BBeUsuj7EX"
      },
      "execution_count": 115,
      "outputs": []
    },
    {
      "cell_type": "code",
      "source": [
        "im_gray_invert = 255 - img_resized"
      ],
      "metadata": {
        "id": "NVG4hQKsj-Jg"
      },
      "execution_count": 116,
      "outputs": []
    },
    {
      "cell_type": "code",
      "source": [
        "plt.imshow(im_gray_invert)"
      ],
      "metadata": {
        "colab": {
          "base_uri": "https://localhost:8080/",
          "height": 282
        },
        "id": "6prQjoc5kB9n",
        "outputId": "9dbdd5f6-3a5f-4a47-df42-0b0f30a8d1db"
      },
      "execution_count": 117,
      "outputs": [
        {
          "output_type": "execute_result",
          "data": {
            "text/plain": [
              "<matplotlib.image.AxesImage at 0x7f38b89c0150>"
            ]
          },
          "metadata": {},
          "execution_count": 117
        },
        {
          "output_type": "display_data",
          "data": {
            "text/plain": [
              "<Figure size 432x288 with 1 Axes>"
            ],
            "image/png": "[encoded data removed]"
          },
          "metadata": {
            "needs_background": "light"
          }
        }
      ]
    },
    {
      "cell_type": "code",
      "source": [
        "im_final = im_gray_invert.reshape(1,28,28,1)"
      ],
      "metadata": {
        "id": "7hoqaS1ckRdJ"
      },
      "execution_count": 118,
      "outputs": []
    },
    {
      "cell_type": "markdown",
      "source": [
        "#5d) Predicting"
      ],
      "metadata": {
        "id": "R7eO9f50lMi3"
      }
    },
    {
      "cell_type": "code",
      "source": [
        "ans = model.predict(im_final)"
      ],
      "metadata": {
        "id": "FMWO1QxcgqgC"
      },
      "execution_count": 119,
      "outputs": []
    },
    {
      "cell_type": "code",
      "source": [
        "ans = np.argmax(ans,axis=1)[0]\n",
        "print(ans)"
      ],
      "metadata": {
        "colab": {
          "base_uri": "https://localhost:8080/"
        },
        "id": "aUK8HGotkZCw",
        "outputId": "e5d6315d-e028-4daf-9707-4952670f09b5"
      },
      "execution_count": 120,
      "outputs": [
        {
          "output_type": "stream",
          "name": "stdout",
          "text": [
            "8\n"
          ]
        }
      ]
    },
    {
      "cell_type": "markdown",
      "source": [
        "\n",
        "\n",
        "---\n",
        "\n"
      ],
      "metadata": {
        "id": "dKxJwiwwoT3K"
      }
    },
    {
      "cell_type": "markdown",
      "source": [
        "#Step 6: Visualize the Loss or Error"
      ],
      "metadata": {
        "id": "aizK2BlsTGC0"
      }
    },
    {
      "cell_type": "code",
      "source": [
        "loss = history.history['loss']\n",
        "val_loss = history.history['val_loss']\n",
        "acc = history.history['accuracy']\n",
        "val_acc = history.history['val_accuracy']\n",
        "epoch = range(len(loss))"
      ],
      "metadata": {
        "id": "ND5ixRYcFmyv"
      },
      "execution_count": 121,
      "outputs": []
    },
    {
      "cell_type": "code",
      "source": [
        "import matplotlib.pyplot as plt\n",
        "\n",
        "plt.plot(epoch, loss, label = \"loss\")\n",
        "plt.plot(epoch, val_loss, label = 'val_loss')\n",
        "plt.xlabel('Epoch')\n",
        "plt.ylabel('Loss')\n",
        "plt.legend()\n",
        "plt.show()"
      ],
      "metadata": {
        "colab": {
          "base_uri": "https://localhost:8080/",
          "height": 281
        },
        "id": "FzvBUF-nF2P-",
        "outputId": "516c8fb2-97ba-4dde-f423-9db1b0525da7"
      },
      "execution_count": 122,
      "outputs": [
        {
          "output_type": "display_data",
          "data": {
            "text/plain": [
              "<Figure size 432x288 with 1 Axes>"
            ],
            "image/png": "[encoded data removed]"
          },
          "metadata": {
            "needs_background": "light"
          }
        }
      ]
    },
    {
      "cell_type": "code",
      "source": [
        "plt.plot(epoch, acc, label = 'accuracy')\n",
        "plt.plot(epoch, val_acc, label = 'val_accuracy')\n",
        "plt.xlabel(\"Epoch\")\n",
        "plt.ylabel('Accuracy')\n",
        "plt.legend()\n",
        "plt.show()"
      ],
      "metadata": {
        "colab": {
          "base_uri": "https://localhost:8080/",
          "height": 280
        },
        "id": "8aZMQbGvGL2i",
        "outputId": "291f9a5e-05d8-49ed-8e78-f9a8e49caf59"
      },
      "execution_count": 123,
      "outputs": [
        {
          "output_type": "display_data",
          "data": {
            "text/plain": [
              "<Figure size 432x288 with 1 Axes>"
            ],
            "image/png": "[encoded data removed]"
          },
          "metadata": {
            "needs_background": "light"
          }
        }
      ]
    },
    {
      "cell_type": "markdown",
      "source": [
        "\n",
        "\n",
        "---\n",
        "\n"
      ],
      "metadata": {
        "id": "Z4tCcSr4nKNS"
      }
    },
    {
      "cell_type": "markdown",
      "source": [
        "#Step 7: Evaluate the Model"
      ],
      "metadata": {
        "id": "MA0h80BlDcOH"
      }
    },
    {
      "cell_type": "code",
      "source": [
        "loss, acc = model.evaluate(x_test, y_test, verbose = 2)\n",
        "#without verbose, your output gives less detail and more messy\n",
        "\n",
        "print(f'Accuracy: {acc:5.2%}') \n",
        "#string literal (putting another string into it)\n",
        "#5.2%: 5 characters (including the point) with 2 decimals"
      ],
      "metadata": {
        "colab": {
          "base_uri": "https://localhost:8080/"
        },
        "id": "8B7qoGCLDbSa",
        "outputId": "1c0063f1-dcb7-4305-9eb3-6b2925bd6bcd"
      },
      "execution_count": 124,
      "outputs": [
        {
          "output_type": "stream",
          "name": "stdout",
          "text": [
            "313/313 - 1s - loss: 0.0321 - accuracy: 0.9918 - 555ms/epoch - 2ms/step\n",
            "Accuracy: 99.18%\n"
          ]
        }
      ]
    },
    {
      "cell_type": "markdown",
      "source": [
        "\n",
        "\n",
        "---\n",
        "\n"
      ],
      "metadata": {
        "id": "p87Qt5mtnLTB"
      }
    },
    {
      "cell_type": "markdown",
      "source": [
        "#THE END\n",
        "\n",
        "---\n",
        "\n"
      ],
      "metadata": {
        "id": "jxhYqpI8TRBv"
      }
    }
  ]
}