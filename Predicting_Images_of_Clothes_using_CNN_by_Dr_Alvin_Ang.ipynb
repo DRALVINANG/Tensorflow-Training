{
  "cells": [
    {
      "cell_type": "markdown",
      "source": [
        "#Step 1: Load the Data"
      ],
      "metadata": {
        "id": "NQpbiOR9gPCa"
      }
    },
    {
      "cell_type": "markdown",
      "metadata": {
        "id": "AuiTWi_wfeyO"
      },
      "source": [
        "Link  https://keras.io/datasets/#fashion-mnist-database-of-fashion-articles\n",
        "\n",
        "Dataset of 60,000 28x28 grayscale images of 10 fashion categories, along with a test set of 10,000 images. The class labels are:\n",
        "\n",
        "| Label |\tDescription |\n",
        "--- | --- |\n",
        "| 0\t| T-shirt/top\n",
        "| 1\t| Trouser\n",
        "| 2\t| Pullover\n",
        "| 3\t| Dress\n",
        "| 4\t| Coat\n",
        "| 5\t| Sandal\n",
        "| 6\t| Shirt\n",
        "| 7\t| Sneaker\n",
        "| 8\t| Bag\n",
        "| 9\t| Ankle boot\n",
        "\n",
        "### Usage:\n",
        "from keras.datasets import fashion_mnist\n",
        "\n",
        "> (x_train, y_train), (x_test, y_test) = fashion_mnist.load_data()\n",
        "\n",
        "Returns:\n",
        "2 tuples:\n",
        "1. x_train, x_test: uint8 array of grayscale image data with shape (num_samples, 28, 28).\n",
        "2. y_train, y_test: uint8 array of labels (integers in range 0-9) with shape (num_samples,)."
      ]
    },
    {
      "cell_type": "markdown",
      "source": [
        "![download.jpg](data:image/jpeg;base64,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)"
      ],
      "metadata": {
        "id": "OLz4SGd2g0zZ"
      }
    },
    {
      "cell_type": "markdown",
      "source": [
        "##1a) Import All Libraries"
      ],
      "metadata": {
        "id": "TZqhyQNUguHR"
      }
    },
    {
      "cell_type": "code",
      "execution_count": 1,
      "metadata": {
        "id": "aqbc0FCMfeyH"
      },
      "outputs": [],
      "source": [
        "import numpy as np\n",
        "import pandas as pd\n",
        "%matplotlib inline\n",
        "import matplotlib as mpl\n",
        "import matplotlib.pyplot as plt"
      ]
    },
    {
      "cell_type": "code",
      "execution_count": 2,
      "metadata": {
        "id": "tDZWnsCdfeyM"
      },
      "outputs": [],
      "source": [
        "import tensorflow as tf\n",
        "from tensorflow import keras"
      ]
    },
    {
      "cell_type": "markdown",
      "source": [
        "##1b) Import the Data + Train Test Split"
      ],
      "metadata": {
        "id": "qg1P1V6Sg_xp"
      }
    },
    {
      "cell_type": "code",
      "execution_count": 3,
      "metadata": {
        "colab": {
          "base_uri": "https://localhost:8080/"
        },
        "id": "v07MZ7cYfeyS",
        "outputId": "b1264281-88f7-4c97-b38d-913fdaf861be"
      },
      "outputs": [
        {
          "output_type": "stream",
          "name": "stdout",
          "text": [
            "Downloading data from https://storage.googleapis.com/tensorflow/tf-keras-datasets/train-labels-idx1-ubyte.gz\n",
            "32768/29515 [=================================] - 0s 0us/step\n",
            "40960/29515 [=========================================] - 0s 0us/step\n",
            "Downloading data from https://storage.googleapis.com/tensorflow/tf-keras-datasets/train-images-idx3-ubyte.gz\n",
            "26427392/26421880 [==============================] - 0s 0us/step\n",
            "26435584/26421880 [==============================] - 0s 0us/step\n",
            "Downloading data from https://storage.googleapis.com/tensorflow/tf-keras-datasets/t10k-labels-idx1-ubyte.gz\n",
            "16384/5148 [===============================================================================================] - 0s 0us/step\n",
            "Downloading data from https://storage.googleapis.com/tensorflow/tf-keras-datasets/t10k-images-idx3-ubyte.gz\n",
            "4423680/4422102 [==============================] - 0s 0us/step\n",
            "4431872/4422102 [==============================] - 0s 0us/step\n"
          ]
        }
      ],
      "source": [
        "fashion_mnist = keras.datasets.fashion_mnist\n",
        "(X_train_full, y_train_full), (X_test, y_test) = fashion_mnist.load_data()"
      ]
    },
    {
      "cell_type": "code",
      "source": [
        "plt.imshow(X_train_full[1])"
      ],
      "metadata": {
        "colab": {
          "base_uri": "https://localhost:8080/",
          "height": 282
        },
        "id": "PyDBuuTZhkhZ",
        "outputId": "0b42a4d0-f1fa-4187-f8a5-fdbe8f242bfc"
      },
      "execution_count": 6,
      "outputs": [
        {
          "output_type": "execute_result",
          "data": {
            "text/plain": [
              "<matplotlib.image.AxesImage at 0x7f4f7a400ad0>"
            ]
          },
          "metadata": {},
          "execution_count": 6
        },
        {
          "output_type": "display_data",
          "data": {
            "text/plain": [
              "<Figure size 432x288 with 1 Axes>"
            ],
            "image/png": "[encoded data removed]"
          },
          "metadata": {
            "needs_background": "light"
          }
        }
      ]
    },
    {
      "cell_type": "code",
      "source": [
        "X_train_full[1]"
      ],
      "metadata": {
        "colab": {
          "base_uri": "https://localhost:8080/"
        },
        "id": "eBrXgyrShoOX",
        "outputId": "788ab13d-e559-49be-c038-0f50a49b9ffc"
      },
      "execution_count": 7,
      "outputs": [
        {
          "output_type": "execute_result",
          "data": {
            "text/plain": [
              "array([[  0,   0,   0,   0,   0,   1,   0,   0,   0,   0,  41, 188, 103,\n",
              "         54,  48,  43,  87, 168, 133,  16,   0,   0,   0,   0,   0,   0,\n",
              "          0,   0],\n",
              "       [  0,   0,   0,   1,   0,   0,   0,  49, 136, 219, 216, 228, 236,\n",
              "        255, 255, 255, 255, 217, 215, 254, 231, 160,  45,   0,   0,   0,\n",
              "          0,   0],\n",
              "       [  0,   0,   0,   0,   0,  14, 176, 222, 224, 212, 203, 198, 196,\n",
              "        200, 215, 204, 202, 201, 201, 201, 209, 218, 224, 164,   0,   0,\n",
              "          0,   0],\n",
              "       [  0,   0,   0,   0,   0, 188, 219, 200, 198, 202, 198, 199, 199,\n",
              "        201, 196, 198, 198, 200, 200, 200, 200, 201, 200, 225,  41,   0,\n",
              "          0,   0],\n",
              "       [  0,   0,   0,   0,  51, 219, 199, 203, 203, 212, 238, 248, 250,\n",
              "        245, 249, 246, 247, 252, 248, 235, 207, 203, 203, 222, 140,   0,\n",
              "          0,   0],\n",
              "       [  0,   0,   0,   0, 116, 226, 206, 204, 207, 204, 101,  75,  47,\n",
              "         73,  48,  50,  45,  51,  63, 113, 222, 202, 206, 220, 224,   0,\n",
              "          0,   0],\n",
              "       [  0,   0,   0,   0, 200, 222, 209, 203, 215, 200,   0,  70,  98,\n",
              "          0, 103,  59,  68,  71,  49,   0, 219, 206, 214, 210, 250,  38,\n",
              "          0,   0],\n",
              "       [  0,   0,   0,   0, 247, 218, 212, 210, 215, 214,   0, 254, 243,\n",
              "        139, 255, 174, 251, 255, 205,   0, 215, 217, 214, 208, 220,  95,\n",
              "          0,   0],\n",
              "       [  0,   0,   0,  45, 226, 214, 214, 215, 224, 205,   0,  42,  35,\n",
              "         60,  16,  17,  12,  13,  70,   0, 189, 216, 212, 206, 212, 156,\n",
              "          0,   0],\n",
              "       [  0,   0,   0, 164, 235, 214, 211, 220, 216, 201,  52,  71,  89,\n",
              "         94,  83,  78,  70,  76,  92,  87, 206, 207, 222, 213, 219, 208,\n",
              "          0,   0],\n",
              "       [  0,   0,   0, 106, 187, 223, 237, 248, 211, 198, 252, 250, 248,\n",
              "        245, 248, 252, 253, 250, 252, 239, 201, 212, 225, 215, 193, 113,\n",
              "          0,   0],\n",
              "       [  0,   0,   0,   0,   0,  17,  54, 159, 222, 193, 208, 192, 197,\n",
              "        200, 200, 200, 200, 201, 203, 195, 210, 165,   0,   0,   0,   0,\n",
              "          0,   0],\n",
              "       [  0,   0,   0,   0,   0,   0,   0,  47, 225, 192, 214, 203, 206,\n",
              "        204, 204, 205, 206, 204, 212, 197, 218, 107,   0,   0,   0,   0,\n",
              "          0,   0],\n",
              "       [  0,   0,   0,   0,   1,   6,   0,  46, 212, 195, 212, 202, 206,\n",
              "        205, 204, 205, 206, 204, 212, 200, 218,  91,   0,   3,   1,   0,\n",
              "          0,   0],\n",
              "       [  0,   0,   0,   0,   0,   1,   0,  11, 197, 199, 205, 202, 205,\n",
              "        206, 204, 205, 207, 204, 205, 205, 218,  77,   0,   5,   0,   0,\n",
              "          0,   0],\n",
              "       [  0,   0,   0,   0,   0,   3,   0,   2, 191, 198, 201, 205, 206,\n",
              "        205, 205, 206, 209, 206, 199, 209, 219,  74,   0,   5,   0,   0,\n",
              "          0,   0],\n",
              "       [  0,   0,   0,   0,   0,   2,   0,   0, 188, 197, 200, 207, 207,\n",
              "        204, 207, 207, 210, 208, 198, 207, 221,  72,   0,   4,   0,   0,\n",
              "          0,   0],\n",
              "       [  0,   0,   0,   0,   0,   2,   0,   0, 215, 198, 203, 206, 208,\n",
              "        205, 207, 207, 210, 208, 200, 202, 222,  75,   0,   4,   0,   0,\n",
              "          0,   0],\n",
              "       [  0,   0,   0,   0,   0,   1,   0,   0, 212, 198, 209, 206, 209,\n",
              "        206, 208, 207, 211, 206, 205, 198, 221,  80,   0,   3,   0,   0,\n",
              "          0,   0],\n",
              "       [  0,   0,   0,   0,   0,   1,   0,   0, 204, 201, 205, 208, 207,\n",
              "        205, 211, 205, 210, 210, 209, 195, 221,  96,   0,   3,   0,   0,\n",
              "          0,   0],\n",
              "       [  0,   0,   0,   0,   0,   1,   0,   0, 202, 201, 205, 209, 207,\n",
              "        205, 213, 206, 210, 209, 210, 194, 217, 105,   0,   2,   0,   0,\n",
              "          0,   0],\n",
              "       [  0,   0,   0,   0,   0,   1,   0,   0, 204, 204, 205, 208, 207,\n",
              "        205, 215, 207, 210, 208, 211, 193, 213, 115,   0,   2,   0,   0,\n",
              "          0,   0],\n",
              "       [  0,   0,   0,   0,   0,   0,   0,   0, 204, 207, 207, 208, 206,\n",
              "        206, 215, 210, 210, 207, 212, 195, 210, 118,   0,   2,   0,   0,\n",
              "          0,   0],\n",
              "       [  0,   0,   0,   0,   0,   1,   0,   0, 198, 208, 208, 208, 204,\n",
              "        207, 212, 212, 210, 207, 211, 196, 207, 121,   0,   1,   0,   0,\n",
              "          0,   0],\n",
              "       [  0,   0,   0,   0,   0,   1,   0,   0, 198, 210, 207, 208, 206,\n",
              "        209, 213, 212, 211, 207, 210, 197, 207, 124,   0,   1,   0,   0,\n",
              "          0,   0],\n",
              "       [  0,   0,   0,   0,   0,   0,   0,   0, 172, 210, 203, 201, 199,\n",
              "        204, 207, 205, 204, 201, 205, 197, 206, 127,   0,   0,   0,   0,\n",
              "          0,   0],\n",
              "       [  0,   0,   0,   0,   0,   0,   0,   0, 188, 221, 214, 234, 236,\n",
              "        238, 244, 244, 244, 240, 243, 214, 224, 162,   0,   2,   0,   0,\n",
              "          0,   0],\n",
              "       [  0,   0,   0,   0,   0,   1,   0,   0, 139, 146, 130, 135, 135,\n",
              "        137, 125, 124, 125, 121, 119, 114, 130,  76,   0,   0,   0,   0,\n",
              "          0,   0]], dtype=uint8)"
            ]
          },
          "metadata": {},
          "execution_count": 7
        }
      ]
    },
    {
      "cell_type": "code",
      "source": [
        "X_train_full[1].shape\n",
        "\n",
        "#we see that the handwritten digit 0 \n",
        "#in x_train[1] is represented by 28 rows x 28 columns of data\n",
        "#each represents 0 (black) to 255 (white)  "
      ],
      "metadata": {
        "colab": {
          "base_uri": "https://localhost:8080/"
        },
        "id": "cWx6XPqKh--R",
        "outputId": "caaed058-05b8-4cfe-96d0-2989991553da"
      },
      "execution_count": 9,
      "outputs": [
        {
          "output_type": "execute_result",
          "data": {
            "text/plain": [
              "(28, 28)"
            ]
          },
          "metadata": {},
          "execution_count": 9
        }
      ]
    },
    {
      "cell_type": "code",
      "source": [
        "y_train_full[1]\n",
        "\n",
        "#| Label |\tDescription |\n",
        "#--- | --- |\n",
        "#| 0\t| T-shirt/top\n",
        "#| 1\t| Trouser\n",
        "#| 2\t| Pullover\n",
        "#| 3\t| Dress\n",
        "#| 4\t| Coat\n",
        "#| 5\t| Sandal\n",
        "#| 6\t| Shirt\n",
        "#| 7\t| Sneaker\n",
        "#| 8\t| Bag\n",
        "#| 9\t| Ankle boot"
      ],
      "metadata": {
        "colab": {
          "base_uri": "https://localhost:8080/"
        },
        "id": "kvwkH0xriENu",
        "outputId": "71cc0092-5914-4db5-b221-a69c4f8fc45f"
      },
      "execution_count": 11,
      "outputs": [
        {
          "output_type": "execute_result",
          "data": {
            "text/plain": [
              "0"
            ]
          },
          "metadata": {},
          "execution_count": 11
        }
      ]
    },
    {
      "cell_type": "code",
      "source": [
        "display(y_train_full)"
      ],
      "metadata": {
        "colab": {
          "base_uri": "https://localhost:8080/",
          "height": 34
        },
        "id": "R16QfAS5iVJz",
        "outputId": "8a356577-6381-412f-a22c-984452477dd2"
      },
      "execution_count": 12,
      "outputs": [
        {
          "output_type": "display_data",
          "data": {
            "text/plain": [
              "array([9, 0, 0, ..., 3, 0, 5], dtype=uint8)"
            ]
          },
          "metadata": {}
        }
      ]
    },
    {
      "cell_type": "code",
      "source": [
        "print(len(np.unique(y_train_full)))\n",
        "#to see how many classes there are... 10 classes"
      ],
      "metadata": {
        "colab": {
          "base_uri": "https://localhost:8080/"
        },
        "id": "Ra5ZyKwsiYi6",
        "outputId": "ca6baba7-f749-4fd7-dd8e-d23f03dd9632"
      },
      "execution_count": 14,
      "outputs": [
        {
          "output_type": "stream",
          "name": "stdout",
          "text": [
            "10\n"
          ]
        }
      ]
    },
    {
      "cell_type": "code",
      "source": [
        "for i in range(5):\n",
        "  print(f'Label: {y_train_full[i]}')\n",
        "  plt.imshow(X_train_full[i], cmap='gray')\n",
        "  plt.show()"
      ],
      "metadata": {
        "colab": {
          "base_uri": "https://localhost:8080/",
          "height": 1000
        },
        "id": "cdjZ4J-_idkR",
        "outputId": "3d380c71-f20b-48ca-a6a4-12ea1337f468"
      },
      "execution_count": 18,
      "outputs": [
        {
          "output_type": "stream",
          "name": "stdout",
          "text": [
            "Label: 9\n"
          ]
        },
        {
          "output_type": "display_data",
          "data": {
            "text/plain": [
              "<Figure size 432x288 with 1 Axes>"
            ],
            "image/png": "[encoded data removed]"
          },
          "metadata": {
            "needs_background": "light"
          }
        },
        {
          "output_type": "stream",
          "name": "stdout",
          "text": [
            "Label: 0\n"
          ]
        },
        {
          "output_type": "display_data",
          "data": {
            "text/plain": [
              "<Figure size 432x288 with 1 Axes>"
            ],
            "image/png": "[encoded data removed]"
          },
          "metadata": {
            "needs_background": "light"
          }
        },
        {
          "output_type": "stream",
          "name": "stdout",
          "text": [
            "Label: 0\n"
          ]
        },
        {
          "output_type": "display_data",
          "data": {
            "text/plain": [
              "<Figure size 432x288 with 1 Axes>"
            ],
            "image/png": "[encoded data removed]"
          },
          "metadata": {
            "needs_background": "light"
          }
        },
        {
          "output_type": "stream",
          "name": "stdout",
          "text": [
            "Label: 3\n"
          ]
        },
        {
          "output_type": "display_data",
          "data": {
            "text/plain": [
              "<Figure size 432x288 with 1 Axes>"
            ],
            "image/png": "[encoded data removed]"
          },
          "metadata": {
            "needs_background": "light"
          }
        },
        {
          "output_type": "stream",
          "name": "stdout",
          "text": [
            "Label: 0\n"
          ]
        },
        {
          "output_type": "display_data",
          "data": {
            "text/plain": [
              "<Figure size 432x288 with 1 Axes>"
            ],
            "image/png": "[encoded data removed]"
          },
          "metadata": {
            "needs_background": "light"
          }
        }
      ]
    },
    {
      "cell_type": "markdown",
      "source": [
        "##1c) Creating Class Names"
      ],
      "metadata": {
        "id": "zAUUNI9RhQtB"
      }
    },
    {
      "cell_type": "code",
      "execution_count": 19,
      "metadata": {
        "id": "wKWaydrRfeyT"
      },
      "outputs": [],
      "source": [
        "class_names = [\"T-shirt/top\", \"Trouser\", \"Pullover\", \"Dress\", \"Coat\",\n",
        "               \"Sandal\", \"Shirt\", \"Sneaker\", \"Bag\", \"Ankle boot\"]"
      ]
    },
    {
      "cell_type": "markdown",
      "metadata": {
        "id": "3g5_rzuzfeyU"
      },
      "source": [
        "##1d) Reshape the Data, or rather, add in additional Parameter --> Channels (RGB)"
      ]
    },
    {
      "cell_type": "code",
      "execution_count": 20,
      "metadata": {
        "id": "ANad9D-IfeyV"
      },
      "outputs": [],
      "source": [
        "X_train_full = X_train_full.reshape((60000, 28, 28, 1))\n",
        "X_test = X_test.reshape((10000, 28, 28, 1))\n",
        "\n",
        "#this means that we convert the x_train to include another parameter called Channel"
      ]
    },
    {
      "cell_type": "markdown",
      "metadata": {
        "id": "wz6aEfr2feyc"
      },
      "source": [
        "##1e) Data normalization\n",
        "We  normalize the data dimensions so that they are of approximately the same scale."
      ]
    },
    {
      "cell_type": "code",
      "execution_count": 21,
      "metadata": {
        "id": "6ytQ9bZffeye"
      },
      "outputs": [],
      "source": [
        "X_train_n = X_train_full / 255.\n",
        "X_test_n = X_test / 255.\n",
        "\n",
        "#pictures are from grayscale 0 to 255, so we divide by 255 to \n",
        "#normalize from 0 to 1 probability\n",
        "\n",
        "#0 is pure black\n",
        "#255 (or 1) is pure white"
      ]
    },
    {
      "cell_type": "markdown",
      "metadata": {
        "id": "KtO6AQXWfeyf"
      },
      "source": [
        "##1f) Split the data into train/validation/test datasets\n",
        "In the earlier step of importing the date, we had 60,000 datasets for training and 10,000 test datasets. Now we further split the training data into train/validation. Here is how each type of dateset is used in deep learning:\n",
        "\n",
        "* __Training data__ — used for training the model (x55,000 rows)\n",
        "* __Validation data__ — used for tuning the hyperparameters and evaluate the models (x5000 rows)\n",
        "* __Test data__ — used to test the model after the model has gone through initial vetting by the validation set. (x10,000 rows)"
      ]
    },
    {
      "cell_type": "code",
      "execution_count": 22,
      "metadata": {
        "id": "5XaNVp_afeyq"
      },
      "outputs": [],
      "source": [
        "X_valid, X_train = X_train_n[:5000], X_train_n[5000:]\n",
        "y_valid, y_train = y_train_full[:5000], y_train_full[5000:]\n",
        "X_test = X_test_n"
      ]
    },
    {
      "cell_type": "code",
      "source": [
        "X_valid.shape \n",
        "#5,000 rows of 28 x 28 grayscale images (1 channel)"
      ],
      "metadata": {
        "colab": {
          "base_uri": "https://localhost:8080/"
        },
        "id": "UaJ1TnpVj4jB",
        "outputId": "91859b9d-9873-4b58-eeb5-2a0faf9aeb42"
      },
      "execution_count": 30,
      "outputs": [
        {
          "output_type": "execute_result",
          "data": {
            "text/plain": [
              "(5000, 28, 28, 1)"
            ]
          },
          "metadata": {},
          "execution_count": 30
        }
      ]
    },
    {
      "cell_type": "code",
      "source": [
        "X_train.shape \n",
        "#55,000 rows of 28 x 28 grayscale images (1 channel)"
      ],
      "metadata": {
        "colab": {
          "base_uri": "https://localhost:8080/"
        },
        "id": "_cNkpcYqj_2p",
        "outputId": "0e14ed19-c3f3-43d0-983a-59dbd488b74d"
      },
      "execution_count": 31,
      "outputs": [
        {
          "output_type": "execute_result",
          "data": {
            "text/plain": [
              "(55000, 28, 28, 1)"
            ]
          },
          "metadata": {},
          "execution_count": 31
        }
      ]
    },
    {
      "cell_type": "code",
      "source": [
        "y_valid.shape \n",
        "#5,000 rows of labelled data corresponding to the images"
      ],
      "metadata": {
        "colab": {
          "base_uri": "https://localhost:8080/"
        },
        "id": "nnpqbSZPkDi7",
        "outputId": "b3f686e8-189b-41ac-bfce-f41449352e0c"
      },
      "execution_count": 27,
      "outputs": [
        {
          "output_type": "execute_result",
          "data": {
            "text/plain": [
              "(5000,)"
            ]
          },
          "metadata": {},
          "execution_count": 27
        }
      ]
    },
    {
      "cell_type": "code",
      "source": [
        "y_train.shape \n",
        "#55,000 rows of labelled data corresponding to the images"
      ],
      "metadata": {
        "colab": {
          "base_uri": "https://localhost:8080/"
        },
        "id": "XU10-zMAkHrC",
        "outputId": "72d90ed7-fc1b-4efb-e51c-44ccfdc35ea2"
      },
      "execution_count": 28,
      "outputs": [
        {
          "output_type": "execute_result",
          "data": {
            "text/plain": [
              "(55000,)"
            ]
          },
          "metadata": {},
          "execution_count": 28
        }
      ]
    },
    {
      "cell_type": "code",
      "source": [
        "X_test.shape\n",
        "#10,000 rows of 28 x 28 grayscale images (1 channel)"
      ],
      "metadata": {
        "colab": {
          "base_uri": "https://localhost:8080/"
        },
        "id": "gkFfoHeQkKAr",
        "outputId": "983a8d84-995f-4217-c35c-b46eb65f6d2f"
      },
      "execution_count": 29,
      "outputs": [
        {
          "output_type": "execute_result",
          "data": {
            "text/plain": [
              "(10000, 28, 28, 1)"
            ]
          },
          "metadata": {},
          "execution_count": 29
        }
      ]
    },
    {
      "cell_type": "markdown",
      "metadata": {
        "id": "_2xa7n4jfeyr"
      },
      "source": [
        "##1g) Presetting the Random Seeds (not entirely needed...)"
      ]
    },
    {
      "cell_type": "code",
      "execution_count": 33,
      "metadata": {
        "id": "0YrX9HhWfeys"
      },
      "outputs": [],
      "source": [
        "np.random.seed(42)\n",
        "tf.random.set_seed(42)\n",
        "\n",
        "#this step may be skipped because its not entirely important..."
      ]
    },
    {
      "cell_type": "markdown",
      "source": [
        "\n",
        "\n",
        "---\n",
        "\n"
      ],
      "metadata": {
        "id": "LGYGWp1Djqap"
      }
    },
    {
      "cell_type": "markdown",
      "metadata": {
        "id": "1OWUHGCwfezM"
      },
      "source": [
        "#Step 2: Build the Model Architecture"
      ]
    },
    {
      "cell_type": "code",
      "execution_count": 35,
      "metadata": {
        "id": "kYDmybYJfezY"
      },
      "outputs": [],
      "source": [
        "model = keras.models.Sequential()\n",
        "\n",
        "#The CNN Layers...\n",
        "model.add(keras.layers.Conv2D(filters = 32, \n",
        "                              kernel_size = (3, 3), \n",
        "                              strides=1, \n",
        "                              padding='valid', \n",
        "                              activation='relu', \n",
        "                              input_shape=(28, 28, 1)))\n",
        "#Pooling...\n",
        "model.add(keras.layers.MaxPooling2D((2, 2)))\n",
        "\n",
        "#The ANN Layers....\n",
        "model.add(keras.layers.Flatten())\n",
        "model.add(keras.layers.Dense(300, activation=\"relu\"))\n",
        "model.add(keras.layers.Dense(100, activation=\"relu\"))\n",
        "model.add(keras.layers.Dense(10, activation=\"softmax\"))\n"
      ]
    },
    {
      "cell_type": "markdown",
      "source": [
        "##2a) Summary of the Model"
      ],
      "metadata": {
        "id": "00QJPzkXlc15"
      }
    },
    {
      "cell_type": "code",
      "execution_count": 36,
      "metadata": {
        "colab": {
          "base_uri": "https://localhost:8080/"
        },
        "id": "XT8R-l8Wfeza",
        "outputId": "dd4edb45-5c3a-44f9-f837-705ec9b75e09"
      },
      "outputs": [
        {
          "output_type": "stream",
          "name": "stdout",
          "text": [
            "Model: \"sequential_1\"\n",
            "_________________________________________________________________\n",
            " Layer (type)                Output Shape              Param #   \n",
            "=================================================================\n",
            " conv2d_1 (Conv2D)           (None, 26, 26, 32)        320       \n",
            "                                                                 \n",
            " max_pooling2d_1 (MaxPooling  (None, 13, 13, 32)       0         \n",
            " 2D)                                                             \n",
            "                                                                 \n",
            " flatten_1 (Flatten)         (None, 5408)              0         \n",
            "                                                                 \n",
            " dense_3 (Dense)             (None, 300)               1622700   \n",
            "                                                                 \n",
            " dense_4 (Dense)             (None, 100)               30100     \n",
            "                                                                 \n",
            " dense_5 (Dense)             (None, 10)                1010      \n",
            "                                                                 \n",
            "=================================================================\n",
            "Total params: 1,654,130\n",
            "Trainable params: 1,654,130\n",
            "Non-trainable params: 0\n",
            "_________________________________________________________________\n"
          ]
        }
      ],
      "source": [
        "model.summary()"
      ]
    },
    {
      "cell_type": "markdown",
      "source": [
        "##2b) Visualize the Model"
      ],
      "metadata": {
        "id": "BGReDVdqlgmI"
      }
    },
    {
      "cell_type": "code",
      "source": [
        "import pydot\n",
        "keras.utils.plot_model(model, 'model.png', show_shapes=True)"
      ],
      "metadata": {
        "colab": {
          "base_uri": "https://localhost:8080/",
          "height": 754
        },
        "id": "cJCzYAZAlqm6",
        "outputId": "43fa80e5-b1bd-4350-8eab-025999f0412c"
      },
      "execution_count": 37,
      "outputs": [
        {
          "output_type": "execute_result",
          "data": {
            "text/plain": [
              "<IPython.core.display.Image object>"
            ],
            "image/png": "[encoded data removed]"
          },
          "metadata": {},
          "execution_count": 37
        }
      ]
    },
    {
      "cell_type": "markdown",
      "source": [
        "\n",
        "\n",
        "---\n",
        "\n"
      ],
      "metadata": {
        "id": "HWtuI5kWlknB"
      }
    },
    {
      "cell_type": "markdown",
      "source": [
        "#Step 3: Compile the Model"
      ],
      "metadata": {
        "id": "gKNb5h8ulljQ"
      }
    },
    {
      "cell_type": "code",
      "execution_count": 38,
      "metadata": {
        "id": "4Jqtdb8Nfezd"
      },
      "outputs": [],
      "source": [
        "model.compile(loss=\"sparse_categorical_crossentropy\",\n",
        "              optimizer=\"sgd\",\n",
        "              metrics=[\"accuracy\"])\n",
        "\n",
        "#sparse_categorical_crossentropy is slower to train\n",
        "#but easier to code\n",
        "#try converting to categorical_crossentropy for faster processing\n",
        "\n",
        "#sparse_categorical_crossentropy dun need \"One-Hot Encoding\" for \n",
        "#both inputs and outputs\n",
        "\n",
        "#SGD is for cross entropy --> Classification\n",
        "#RMSprop is for Regression"
      ]
    },
    {
      "cell_type": "markdown",
      "source": [
        "\n",
        "\n",
        "---\n",
        "\n"
      ],
      "metadata": {
        "id": "b9Q_FpzGnGu5"
      }
    },
    {
      "cell_type": "markdown",
      "source": [
        "#Step 4: Train the Model"
      ],
      "metadata": {
        "id": "htxf_rManIHZ"
      }
    },
    {
      "cell_type": "code",
      "execution_count": 39,
      "metadata": {
        "colab": {
          "base_uri": "https://localhost:8080/"
        },
        "id": "T9TNaVHxfezd",
        "outputId": "d21165bf-0b21-4edd-c7b7-3f123a25b140"
      },
      "outputs": [
        {
          "output_type": "stream",
          "name": "stdout",
          "text": [
            "Epoch 1/30\n",
            "860/860 [==============================] - 38s 44ms/step - loss: 0.8468 - accuracy: 0.7083 - val_loss: 0.8137 - val_accuracy: 0.7014\n",
            "Epoch 2/30\n",
            "860/860 [==============================] - 38s 45ms/step - loss: 0.5360 - accuracy: 0.8066 - val_loss: 0.4983 - val_accuracy: 0.8106\n",
            "Epoch 3/30\n",
            "860/860 [==============================] - 39s 45ms/step - loss: 0.4787 - accuracy: 0.8271 - val_loss: 0.9614 - val_accuracy: 0.6952\n",
            "Epoch 4/30\n",
            "860/860 [==============================] - 39s 45ms/step - loss: 0.4423 - accuracy: 0.8420 - val_loss: 0.4144 - val_accuracy: 0.8568\n",
            "Epoch 5/30\n",
            "860/860 [==============================] - 39s 45ms/step - loss: 0.4185 - accuracy: 0.8491 - val_loss: 0.4300 - val_accuracy: 0.8472\n",
            "Epoch 6/30\n",
            "860/860 [==============================] - 39s 45ms/step - loss: 0.3953 - accuracy: 0.8577 - val_loss: 0.3779 - val_accuracy: 0.8696\n",
            "Epoch 7/30\n",
            "860/860 [==============================] - 40s 46ms/step - loss: 0.3781 - accuracy: 0.8654 - val_loss: 0.4079 - val_accuracy: 0.8528\n",
            "Epoch 8/30\n",
            "860/860 [==============================] - 39s 45ms/step - loss: 0.3633 - accuracy: 0.8696 - val_loss: 0.5108 - val_accuracy: 0.8154\n",
            "Epoch 9/30\n",
            "860/860 [==============================] - 39s 45ms/step - loss: 0.3494 - accuracy: 0.8734 - val_loss: 0.3578 - val_accuracy: 0.8714\n",
            "Epoch 10/30\n",
            "860/860 [==============================] - 39s 45ms/step - loss: 0.3374 - accuracy: 0.8781 - val_loss: 0.3892 - val_accuracy: 0.8550\n",
            "Epoch 11/30\n",
            "860/860 [==============================] - 39s 45ms/step - loss: 0.3246 - accuracy: 0.8809 - val_loss: 0.3444 - val_accuracy: 0.8760\n",
            "Epoch 12/30\n",
            "860/860 [==============================] - 39s 45ms/step - loss: 0.3136 - accuracy: 0.8860 - val_loss: 0.3227 - val_accuracy: 0.8812\n",
            "Epoch 13/30\n",
            "860/860 [==============================] - 40s 46ms/step - loss: 0.3065 - accuracy: 0.8881 - val_loss: 0.3314 - val_accuracy: 0.8834\n",
            "Epoch 14/30\n",
            "860/860 [==============================] - 39s 45ms/step - loss: 0.2976 - accuracy: 0.8917 - val_loss: 0.3742 - val_accuracy: 0.8594\n",
            "Epoch 15/30\n",
            "860/860 [==============================] - 39s 45ms/step - loss: 0.2895 - accuracy: 0.8952 - val_loss: 0.4211 - val_accuracy: 0.8456\n",
            "Epoch 16/30\n",
            "860/860 [==============================] - 39s 45ms/step - loss: 0.2836 - accuracy: 0.8968 - val_loss: 0.2950 - val_accuracy: 0.8944\n",
            "Epoch 17/30\n",
            "860/860 [==============================] - 39s 45ms/step - loss: 0.2749 - accuracy: 0.9001 - val_loss: 0.3920 - val_accuracy: 0.8636\n",
            "Epoch 18/30\n",
            "860/860 [==============================] - 40s 46ms/step - loss: 0.2700 - accuracy: 0.9010 - val_loss: 0.3463 - val_accuracy: 0.8796\n",
            "Epoch 19/30\n",
            "860/860 [==============================] - 39s 45ms/step - loss: 0.2640 - accuracy: 0.9038 - val_loss: 0.3092 - val_accuracy: 0.8884\n",
            "Epoch 20/30\n",
            "860/860 [==============================] - 39s 45ms/step - loss: 0.2582 - accuracy: 0.9057 - val_loss: 0.3200 - val_accuracy: 0.8852\n",
            "Epoch 21/30\n",
            "860/860 [==============================] - 39s 45ms/step - loss: 0.2523 - accuracy: 0.9087 - val_loss: 0.2842 - val_accuracy: 0.8946\n",
            "Epoch 22/30\n",
            "860/860 [==============================] - 38s 45ms/step - loss: 0.2467 - accuracy: 0.9094 - val_loss: 0.2820 - val_accuracy: 0.9000\n",
            "Epoch 23/30\n",
            "860/860 [==============================] - 39s 45ms/step - loss: 0.2412 - accuracy: 0.9117 - val_loss: 0.2786 - val_accuracy: 0.9034\n",
            "Epoch 24/30\n",
            "860/860 [==============================] - 39s 45ms/step - loss: 0.2366 - accuracy: 0.9143 - val_loss: 0.2932 - val_accuracy: 0.8964\n",
            "Epoch 25/30\n",
            "860/860 [==============================] - 39s 45ms/step - loss: 0.2317 - accuracy: 0.9157 - val_loss: 0.2868 - val_accuracy: 0.8998\n",
            "Epoch 26/30\n",
            "860/860 [==============================] - 39s 46ms/step - loss: 0.2284 - accuracy: 0.9167 - val_loss: 0.2721 - val_accuracy: 0.9020\n",
            "Epoch 27/30\n",
            "860/860 [==============================] - 39s 45ms/step - loss: 0.2240 - accuracy: 0.9188 - val_loss: 0.2754 - val_accuracy: 0.9010\n",
            "Epoch 28/30\n",
            "860/860 [==============================] - 38s 45ms/step - loss: 0.2193 - accuracy: 0.9201 - val_loss: 0.3018 - val_accuracy: 0.8916\n",
            "Epoch 29/30\n",
            "860/860 [==============================] - 39s 45ms/step - loss: 0.2142 - accuracy: 0.9221 - val_loss: 0.2697 - val_accuracy: 0.9034\n",
            "Epoch 30/30\n",
            "860/860 [==============================] - 38s 45ms/step - loss: 0.2111 - accuracy: 0.9226 - val_loss: 0.2667 - val_accuracy: 0.9076\n"
          ]
        }
      ],
      "source": [
        "model_history = model.fit(\n",
        "                          X_train, y_train, \n",
        "                          epochs=30,\n",
        "                          batch_size= 64,\n",
        "                          validation_data=(X_valid, y_valid))"
      ]
    },
    {
      "cell_type": "markdown",
      "source": [
        "\n",
        "\n",
        "---\n",
        "\n"
      ],
      "metadata": {
        "id": "576HxR5jnPLp"
      }
    },
    {
      "cell_type": "markdown",
      "source": [
        "#Step 5: Save the Model"
      ],
      "metadata": {
        "id": "FVbIQ5x2nQQ4"
      }
    },
    {
      "cell_type": "code",
      "source": [
        "model.save('classification.h5')\n",
        "\n",
        "#h5 means HDF5 format\n",
        "#it saves the model configuration, weights\n",
        "#bias and all hyperparameters"
      ],
      "metadata": {
        "id": "Yhynrn4KnVPh"
      },
      "execution_count": 40,
      "outputs": []
    },
    {
      "cell_type": "markdown",
      "source": [
        "\n",
        "\n",
        "---\n",
        "\n"
      ],
      "metadata": {
        "id": "iWnjlHUCnvJJ"
      }
    },
    {
      "cell_type": "markdown",
      "source": [
        "#Step 6: Load the Model"
      ],
      "metadata": {
        "id": "dgeU-C-7nxQJ"
      }
    },
    {
      "cell_type": "markdown",
      "source": [
        "https://www.alvinang.sg/s/classification.h5"
      ],
      "metadata": {
        "id": "uYYIBHtIwNjK"
      }
    },
    {
      "cell_type": "code",
      "source": [
        "# model = keras.models.load_model('classification.h5')\n",
        "\n",
        "#though not needed here, we will load this model for future use\n",
        "#so that we don't have to run the 30 epochs as it takes very long"
      ],
      "metadata": {
        "id": "lspX2chln0ip"
      },
      "execution_count": null,
      "outputs": []
    },
    {
      "cell_type": "markdown",
      "source": [
        "\n",
        "\n",
        "---\n",
        "\n"
      ],
      "metadata": {
        "id": "oi7WuoOHnTO5"
      }
    },
    {
      "cell_type": "markdown",
      "source": [
        "#Step 7: Running a Prediction"
      ],
      "metadata": {
        "id": "xN_AQwppqVSa"
      }
    },
    {
      "cell_type": "markdown",
      "source": [
        "![t-shirt.jpg](data:image/jpeg;base64,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)"
      ],
      "metadata": {
        "id": "L24Aputbqpf5"
      }
    },
    {
      "cell_type": "markdown",
      "source": [
        "##7a) Importing Image Reshaping Libraries"
      ],
      "metadata": {
        "id": "dwTeIP-2uYQ6"
      }
    },
    {
      "cell_type": "code",
      "source": [
        "import numpy as np\n",
        "import cv2\n",
        "from skimage import img_as_ubyte    \n",
        "from skimage.color import rgb2gray\n",
        "from keras.models import load_model"
      ],
      "metadata": {
        "id": "Wj4UFSCzqRcZ"
      },
      "execution_count": 41,
      "outputs": []
    },
    {
      "cell_type": "markdown",
      "source": [
        "##7b) Importing and Previewing the T Shirt Image"
      ],
      "metadata": {
        "id": "3bT5FFgXvKt6"
      }
    },
    {
      "cell_type": "code",
      "source": [
        "shirt = cv2.imread('/content/t-shirt.jpg')"
      ],
      "metadata": {
        "id": "Vct1kiplqSr1"
      },
      "execution_count": 42,
      "outputs": []
    },
    {
      "cell_type": "code",
      "source": [
        "plt.imshow(shirt)"
      ],
      "metadata": {
        "colab": {
          "base_uri": "https://localhost:8080/",
          "height": 286
        },
        "id": "kNFHy7XcrU1x",
        "outputId": "984527c0-284b-4dd7-b0e2-b73ce5166522"
      },
      "execution_count": 43,
      "outputs": [
        {
          "output_type": "execute_result",
          "data": {
            "text/plain": [
              "<matplotlib.image.AxesImage at 0x7f4f79e39750>"
            ]
          },
          "metadata": {},
          "execution_count": 43
        },
        {
          "output_type": "display_data",
          "data": {
            "text/plain": [
              "<Figure size 432x288 with 1 Axes>"
            ],
            "image/png": "[encoded data removed]"
          },
          "metadata": {
            "needs_background": "light"
          }
        }
      ]
    },
    {
      "cell_type": "markdown",
      "source": [
        "##7c) Re-Coloring / Re-Shaping / Re-Sizing"
      ],
      "metadata": {
        "id": "QPR2XHHflANf"
      }
    },
    {
      "cell_type": "code",
      "source": [
        "shirt_gray = rgb2gray(shirt)\n",
        "shirt_gray_u8 = img_as_ubyte(shirt_gray)"
      ],
      "metadata": {
        "id": "ZFtn8iP5hFbI"
      },
      "execution_count": 44,
      "outputs": []
    },
    {
      "cell_type": "code",
      "source": [
        "(thresh, im_binary) = cv2.threshold(shirt_gray_u8, 128, 255, cv2.THRESH_BINARY | cv2.THRESH_OTSU)"
      ],
      "metadata": {
        "id": "ENABeK2ujuA3"
      },
      "execution_count": 45,
      "outputs": []
    },
    {
      "cell_type": "code",
      "source": [
        "img_resized = cv2.resize(im_binary,(28,28))"
      ],
      "metadata": {
        "id": "O5BBeUsuj7EX"
      },
      "execution_count": 46,
      "outputs": []
    },
    {
      "cell_type": "code",
      "source": [
        "im_gray_invert = 255 - img_resized"
      ],
      "metadata": {
        "id": "NVG4hQKsj-Jg"
      },
      "execution_count": 47,
      "outputs": []
    },
    {
      "cell_type": "code",
      "source": [
        "plt.imshow(im_gray_invert)"
      ],
      "metadata": {
        "colab": {
          "base_uri": "https://localhost:8080/",
          "height": 282
        },
        "id": "6prQjoc5kB9n",
        "outputId": "633ad2aa-93d3-4659-9b17-a3c9a1981efd"
      },
      "execution_count": 48,
      "outputs": [
        {
          "output_type": "execute_result",
          "data": {
            "text/plain": [
              "<matplotlib.image.AxesImage at 0x7f4f79c37bd0>"
            ]
          },
          "metadata": {},
          "execution_count": 48
        },
        {
          "output_type": "display_data",
          "data": {
            "text/plain": [
              "<Figure size 432x288 with 1 Axes>"
            ],
            "image/png": "[encoded data removed]"
          },
          "metadata": {
            "needs_background": "light"
          }
        }
      ]
    },
    {
      "cell_type": "code",
      "source": [
        "im_final = im_gray_invert.reshape(1,28,28,1)"
      ],
      "metadata": {
        "id": "7hoqaS1ckRdJ"
      },
      "execution_count": 49,
      "outputs": []
    },
    {
      "cell_type": "markdown",
      "source": [
        "\n",
        "\n",
        "---\n",
        "\n"
      ],
      "metadata": {
        "id": "U7FBT0TsoT0M"
      }
    },
    {
      "cell_type": "markdown",
      "source": [
        "##7d) Predicting"
      ],
      "metadata": {
        "id": "R7eO9f50lMi3"
      }
    },
    {
      "cell_type": "code",
      "source": [
        "ans = model.predict(im_final)"
      ],
      "metadata": {
        "id": "FMWO1QxcgqgC"
      },
      "execution_count": 50,
      "outputs": []
    },
    {
      "cell_type": "code",
      "source": [
        "ans = np.argmax(ans,axis=1)[0]\n",
        "print(ans)"
      ],
      "metadata": {
        "colab": {
          "base_uri": "https://localhost:8080/"
        },
        "id": "aUK8HGotkZCw",
        "outputId": "1a0d5b78-c054-44da-a6fd-17044283ec50"
      },
      "execution_count": 51,
      "outputs": [
        {
          "output_type": "stream",
          "name": "stdout",
          "text": [
            "0\n"
          ]
        }
      ]
    },
    {
      "cell_type": "markdown",
      "source": [
        "\n",
        "\n",
        "---\n",
        "\n"
      ],
      "metadata": {
        "id": "dKxJwiwwoT3K"
      }
    },
    {
      "cell_type": "markdown",
      "source": [
        "#Step 8: Visualize the Loss or Error"
      ],
      "metadata": {
        "id": "17NxMePpvY0M"
      }
    },
    {
      "cell_type": "code",
      "source": [
        "loss = model_history.history['loss']\n",
        "val_loss = model_history.history['val_loss']\n",
        "acc = model_history.history['accuracy']\n",
        "val_acc = model_history.history['val_accuracy']\n",
        "epoch = range(len(loss))"
      ],
      "metadata": {
        "id": "1rMcSdHRr_ex"
      },
      "execution_count": 54,
      "outputs": []
    },
    {
      "cell_type": "code",
      "source": [
        "import matplotlib.pyplot as plt\n",
        "\n",
        "plt.plot(epoch, loss, label = \"loss\")\n",
        "plt.plot(epoch, val_loss, label = 'val_loss')\n",
        "plt.xlabel('Epoch')\n",
        "plt.ylabel('Loss')\n",
        "plt.legend()\n",
        "plt.show()"
      ],
      "metadata": {
        "colab": {
          "base_uri": "https://localhost:8080/",
          "height": 279
        },
        "id": "Tv89TfNYsBXf",
        "outputId": "1c9a5181-893e-4d56-c9ef-066ae21b0448"
      },
      "execution_count": 55,
      "outputs": [
        {
          "output_type": "display_data",
          "data": {
            "text/plain": [
              "<Figure size 432x288 with 1 Axes>"
            ],
            "image/png": "[encoded data removed]"
          },
          "metadata": {
            "needs_background": "light"
          }
        }
      ]
    },
    {
      "cell_type": "markdown",
      "source": [
        "\n",
        "\n",
        "---\n",
        "\n"
      ],
      "metadata": {
        "id": "WR3CvUwgveYJ"
      }
    },
    {
      "cell_type": "markdown",
      "source": [
        "#Step 9: Visualize the Accuracy"
      ],
      "metadata": {
        "id": "Z72WAFJQvfH6"
      }
    },
    {
      "cell_type": "code",
      "source": [
        "plt.plot(epoch, acc, label = 'accuracy')\n",
        "plt.plot(epoch, val_acc, label = 'val_accuracy')\n",
        "plt.xlabel(\"Epoch\")\n",
        "plt.ylabel('Accuracy')\n",
        "plt.legend()\n",
        "plt.show()"
      ],
      "metadata": {
        "colab": {
          "base_uri": "https://localhost:8080/",
          "height": 279
        },
        "id": "gKUPa1WGsTkR",
        "outputId": "70b46167-e3e3-4bdc-c68a-09f8f746fb34"
      },
      "execution_count": 56,
      "outputs": [
        {
          "output_type": "display_data",
          "data": {
            "text/plain": [
              "<Figure size 432x288 with 1 Axes>"
            ],
            "image/png": "[encoded data removed]"
          },
          "metadata": {
            "needs_background": "light"
          }
        }
      ]
    },
    {
      "cell_type": "markdown",
      "source": [
        "\n",
        "\n",
        "---\n",
        "\n"
      ],
      "metadata": {
        "id": "EGGMQio3rw9R"
      }
    },
    {
      "cell_type": "markdown",
      "source": [
        "#Step 10: Evaluate the Model"
      ],
      "metadata": {
        "id": "tBtZnxccviyk"
      }
    },
    {
      "cell_type": "code",
      "execution_count": 57,
      "metadata": {
        "colab": {
          "base_uri": "https://localhost:8080/"
        },
        "id": "Vgkd_n2Dfeze",
        "outputId": "425062a3-bea1-420b-932a-39ffbf337fae"
      },
      "outputs": [
        {
          "output_type": "stream",
          "name": "stdout",
          "text": [
            "313/313 [==============================] - 3s 11ms/step - loss: 0.2737 - accuracy: 0.9014\n"
          ]
        }
      ],
      "source": [
        "ev = model.evaluate(X_test_n, y_test)"
      ]
    },
    {
      "cell_type": "code",
      "execution_count": 58,
      "metadata": {
        "colab": {
          "base_uri": "https://localhost:8080/"
        },
        "id": "3wzTm84hfezf",
        "outputId": "e863e8f8-1fd6-4d80-d7ba-a08eb2ca0308"
      },
      "outputs": [
        {
          "output_type": "execute_result",
          "data": {
            "text/plain": [
              "[0.2736997604370117, 0.9014000296592712]"
            ]
          },
          "metadata": {},
          "execution_count": 58
        }
      ],
      "source": [
        "ev\n",
        "#Accuracy achieved of 90%"
      ]
    },
    {
      "cell_type": "markdown",
      "source": [
        "\n",
        "\n",
        "---\n",
        "\n"
      ],
      "metadata": {
        "id": "77Dt2pzCvrTR"
      }
    },
    {
      "cell_type": "markdown",
      "source": [
        "#THE END"
      ],
      "metadata": {
        "id": "KfRJewsWvsz5"
      }
    },
    {
      "cell_type": "markdown",
      "source": [
        "\n",
        "\n",
        "---\n",
        "\n"
      ],
      "metadata": {
        "id": "E-cSM4MivtwT"
      }
    }
  ],
  "metadata": {
    "kernelspec": {
      "display_name": "Python 3",
      "language": "python",
      "name": "python3"
    },
    "language_info": {
      "codemirror_mode": {
        "name": "ipython",
        "version": 3
      },
      "file_extension": ".py",
      "mimetype": "text/x-python",
      "name": "python",
      "nbconvert_exporter": "python",
      "pygments_lexer": "ipython3",
      "version": "3.7.4"
    },
    "colab": {
      "name": "Predicting Images of Clothes using CNN by Dr Alvin Ang.ipynb",
      "provenance": [],
      "collapsed_sections": [],
      "toc_visible": true
    },
    "accelerator": "GPU",
    "gpuClass": "standard"
  },
  "nbformat": 4,
  "nbformat_minor": 0
}